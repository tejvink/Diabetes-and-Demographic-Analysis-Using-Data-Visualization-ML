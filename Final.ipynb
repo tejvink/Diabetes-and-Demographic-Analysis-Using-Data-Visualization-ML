{
  "nbformat": 4,
  "nbformat_minor": 0,
  "metadata": {
    "colab": {
      "provenance": []
    },
    "kernelspec": {
      "name": "python3",
      "display_name": "Python 3"
    },
    "language_info": {
      "name": "python"
    }
  },
  "cells": [
    {
      "cell_type": "markdown",
      "source": [
        "# Data Acquisition"
      ],
      "metadata": {
        "id": "B5myQaf-iEYK"
      }
    },
    {
      "cell_type": "code",
      "source": [
        "!pip install pandas matplotlib"
      ],
      "metadata": {
        "colab": {
          "base_uri": "https://localhost:8080/"
        },
        "id": "8ZlgixkLiR15",
        "outputId": "b52bc3c2-160b-443f-c59f-3e2f3ddc6553"
      },
      "execution_count": 3,
      "outputs": [
        {
          "output_type": "stream",
          "name": "stdout",
          "text": [
            "Requirement already satisfied: pandas in /usr/local/lib/python3.11/dist-packages (2.2.2)\n",
            "Requirement already satisfied: matplotlib in /usr/local/lib/python3.11/dist-packages (3.10.0)\n",
            "Requirement already satisfied: numpy>=1.23.2 in /usr/local/lib/python3.11/dist-packages (from pandas) (2.0.2)\n",
            "Requirement already satisfied: python-dateutil>=2.8.2 in /usr/local/lib/python3.11/dist-packages (from pandas) (2.8.2)\n",
            "Requirement already satisfied: pytz>=2020.1 in /usr/local/lib/python3.11/dist-packages (from pandas) (2025.2)\n",
            "Requirement already satisfied: tzdata>=2022.7 in /usr/local/lib/python3.11/dist-packages (from pandas) (2025.2)\n",
            "Requirement already satisfied: contourpy>=1.0.1 in /usr/local/lib/python3.11/dist-packages (from matplotlib) (1.3.1)\n",
            "Requirement already satisfied: cycler>=0.10 in /usr/local/lib/python3.11/dist-packages (from matplotlib) (0.12.1)\n",
            "Requirement already satisfied: fonttools>=4.22.0 in /usr/local/lib/python3.11/dist-packages (from matplotlib) (4.57.0)\n",
            "Requirement already satisfied: kiwisolver>=1.3.1 in /usr/local/lib/python3.11/dist-packages (from matplotlib) (1.4.8)\n",
            "Requirement already satisfied: packaging>=20.0 in /usr/local/lib/python3.11/dist-packages (from matplotlib) (24.2)\n",
            "Requirement already satisfied: pillow>=8 in /usr/local/lib/python3.11/dist-packages (from matplotlib) (11.1.0)\n",
            "Requirement already satisfied: pyparsing>=2.3.1 in /usr/local/lib/python3.11/dist-packages (from matplotlib) (3.2.3)\n",
            "Requirement already satisfied: six>=1.5 in /usr/local/lib/python3.11/dist-packages (from python-dateutil>=2.8.2->pandas) (1.17.0)\n"
          ]
        }
      ]
    },
    {
      "cell_type": "markdown",
      "source": [
        "**Diabetic datasets Preview**"
      ],
      "metadata": {
        "id": "XkooV0To5lDN"
      }
    },
    {
      "cell_type": "code",
      "source": [
        "import pandas as pd\n",
        "\n",
        "# Load the diabetes dataset\n",
        "diabetes_data = pd.read_csv('/content/Diabetes_Metrics_With_State.csv')\n",
        "# Display the first few rows of the diabetes data\n",
        "print(\"\\nDiabetes Data Preview:\")\n",
        "print(diabetes_data.head())\n",
        "\n",
        "# Check for general information including null values in the census,county,diabetes data\n",
        "print(\"\\nDiabetes Data Preview:\")\n",
        "print(diabetes_data.info())\n",
        "\n",
        "print(\"\\nDiabetic Missing Values in Diabetes Data:\")\n",
        "print(diabetes_data.isnull().sum())"
      ],
      "metadata": {
        "colab": {
          "base_uri": "https://localhost:8080/"
        },
        "id": "2w215XKH4Al-",
        "outputId": "ca931f3d-ce8f-4a1a-8961-6a22a194cc60"
      },
      "execution_count": 7,
      "outputs": [
        {
          "output_type": "stream",
          "name": "stdout",
          "text": [
            "\n",
            "Diabetes Data Preview:\n",
            "   Id  Pregnancies  Glucose  BloodPressure  SkinThickness  Insulin   BMI  \\\n",
            "0   1            6      148             72             35        0  33.6   \n",
            "1   2            1       85             66             29        0  26.6   \n",
            "2   3            8      183             64              0        0  23.3   \n",
            "3   4            1       89             66             23       94  28.1   \n",
            "4   5            0      137             40             35      168  43.1   \n",
            "\n",
            "   DiabetesPedigreeFunction  Age  Outcome         State  \n",
            "0                     0.627   50        1  PENNSYLVANIA  \n",
            "1                     0.351   31        0   PUERTO RICO  \n",
            "2                     0.672   32        1        NEVADA  \n",
            "3                     0.167   21        0       INDIANA  \n",
            "4                     2.288   33        1     TENNESSEE  \n",
            "\n",
            "Diabetes Data Preview:\n",
            "<class 'pandas.core.frame.DataFrame'>\n",
            "RangeIndex: 2768 entries, 0 to 2767\n",
            "Data columns (total 11 columns):\n",
            " #   Column                    Non-Null Count  Dtype  \n",
            "---  ------                    --------------  -----  \n",
            " 0   Id                        2768 non-null   int64  \n",
            " 1   Pregnancies               2768 non-null   int64  \n",
            " 2   Glucose                   2768 non-null   int64  \n",
            " 3   BloodPressure             2768 non-null   int64  \n",
            " 4   SkinThickness             2768 non-null   int64  \n",
            " 5   Insulin                   2768 non-null   int64  \n",
            " 6   BMI                       2768 non-null   float64\n",
            " 7   DiabetesPedigreeFunction  2768 non-null   float64\n",
            " 8   Age                       2768 non-null   int64  \n",
            " 9   Outcome                   2768 non-null   int64  \n",
            " 10  State                     2768 non-null   object \n",
            "dtypes: float64(2), int64(8), object(1)\n",
            "memory usage: 238.0+ KB\n",
            "None\n",
            "\n",
            "Diabetic Missing Values in Diabetes Data:\n",
            "Id                          0\n",
            "Pregnancies                 0\n",
            "Glucose                     0\n",
            "BloodPressure               0\n",
            "SkinThickness               0\n",
            "Insulin                     0\n",
            "BMI                         0\n",
            "DiabetesPedigreeFunction    0\n",
            "Age                         0\n",
            "Outcome                     0\n",
            "State                       0\n",
            "dtype: int64\n"
          ]
        }
      ]
    },
    {
      "cell_type": "markdown",
      "source": [
        "**Census Datasets Preview**"
      ],
      "metadata": {
        "id": "NdFyQX4j5o3a"
      }
    },
    {
      "cell_type": "code",
      "source": [
        "import pandas as pd\n",
        "\n",
        "# Load the datasets\n",
        "census_data = pd.read_csv('/content/acs2017_census_tract_data.csv')\n",
        "\n",
        "# Display the first few rows of the census data\n",
        "print(\"Census Data Preview:\")\n",
        "print(census_data.head())\n",
        "\n",
        "# Check for general information including null values in the census,county data\n",
        "print(\"\\nCensus Data Information:\")\n",
        "print(census_data.info())\n",
        "\n",
        "# Summarize missing values in both datasets\n",
        "print(\"\\nMissing Values in Census Data:\")\n",
        "print(census_data.isnull().sum())"
      ],
      "metadata": {
        "colab": {
          "base_uri": "https://localhost:8080/"
        },
        "id": "VlXf07Ewism4",
        "outputId": "19a03a97-d15e-4dfd-a12b-73fbd886356c"
      },
      "execution_count": 6,
      "outputs": [
        {
          "output_type": "stream",
          "name": "stdout",
          "text": [
            "Census Data Preview:\n",
            "      TractId    State          County  TotalPop   Men  Women  Hispanic  \\\n",
            "0  1001020100  Alabama  Autauga County      1845   899    946       2.4   \n",
            "1  1001020200  Alabama  Autauga County      2172  1167   1005       1.1   \n",
            "2  1001020300  Alabama  Autauga County      3385  1533   1852       8.0   \n",
            "3  1001020400  Alabama  Autauga County      4267  2001   2266       9.6   \n",
            "4  1001020500  Alabama  Autauga County      9965  5054   4911       0.9   \n",
            "\n",
            "   White  Black  Native  ...  Walk  OtherTransp  WorkAtHome  MeanCommute  \\\n",
            "0   86.3    5.2     0.0  ...   0.5          0.0         2.1         24.5   \n",
            "1   41.6   54.5     0.0  ...   0.0          0.5         0.0         22.2   \n",
            "2   61.4   26.5     0.6  ...   1.0          0.8         1.5         23.1   \n",
            "3   80.3    7.1     0.5  ...   1.5          2.9         2.1         25.9   \n",
            "4   77.5   16.4     0.0  ...   0.8          0.3         0.7         21.0   \n",
            "\n",
            "   Employed  PrivateWork  PublicWork  SelfEmployed  FamilyWork  Unemployment  \n",
            "0       881         74.2        21.2           4.5         0.0           4.6  \n",
            "1       852         75.9        15.0           9.0         0.0           3.4  \n",
            "2      1482         73.3        21.1           4.8         0.7           4.7  \n",
            "3      1849         75.8        19.7           4.5         0.0           6.1  \n",
            "4      4787         71.4        24.1           4.5         0.0           2.3  \n",
            "\n",
            "[5 rows x 37 columns]\n",
            "\n",
            "Census Data Information:\n",
            "<class 'pandas.core.frame.DataFrame'>\n",
            "RangeIndex: 74001 entries, 0 to 74000\n",
            "Data columns (total 37 columns):\n",
            " #   Column            Non-Null Count  Dtype  \n",
            "---  ------            --------------  -----  \n",
            " 0   TractId           74001 non-null  int64  \n",
            " 1   State             74001 non-null  object \n",
            " 2   County            74001 non-null  object \n",
            " 3   TotalPop          74001 non-null  int64  \n",
            " 4   Men               74001 non-null  int64  \n",
            " 5   Women             74001 non-null  int64  \n",
            " 6   Hispanic          73305 non-null  float64\n",
            " 7   White             73305 non-null  float64\n",
            " 8   Black             73305 non-null  float64\n",
            " 9   Native            73305 non-null  float64\n",
            " 10  Asian             73305 non-null  float64\n",
            " 11  Pacific           73305 non-null  float64\n",
            " 12  VotingAgeCitizen  74001 non-null  int64  \n",
            " 13  Income            72885 non-null  float64\n",
            " 14  IncomeErr         72885 non-null  float64\n",
            " 15  IncomePerCap      73256 non-null  float64\n",
            " 16  IncomePerCapErr   73256 non-null  float64\n",
            " 17  Poverty           73159 non-null  float64\n",
            " 18  ChildPoverty      72891 non-null  float64\n",
            " 19  Professional      73190 non-null  float64\n",
            " 20  Service           73190 non-null  float64\n",
            " 21  Office            73190 non-null  float64\n",
            " 22  Construction      73190 non-null  float64\n",
            " 23  Production        73190 non-null  float64\n",
            " 24  Drive             73200 non-null  float64\n",
            " 25  Carpool           73200 non-null  float64\n",
            " 26  Transit           73200 non-null  float64\n",
            " 27  Walk              73200 non-null  float64\n",
            " 28  OtherTransp       73200 non-null  float64\n",
            " 29  WorkAtHome        73200 non-null  float64\n",
            " 30  MeanCommute       73055 non-null  float64\n",
            " 31  Employed          74001 non-null  int64  \n",
            " 32  PrivateWork       73190 non-null  float64\n",
            " 33  PublicWork        73190 non-null  float64\n",
            " 34  SelfEmployed      73190 non-null  float64\n",
            " 35  FamilyWork        73190 non-null  float64\n",
            " 36  Unemployment      73191 non-null  float64\n",
            "dtypes: float64(29), int64(6), object(2)\n",
            "memory usage: 20.9+ MB\n",
            "None\n",
            "\n",
            "Missing Values in Census Data:\n",
            "TractId                0\n",
            "State                  0\n",
            "County                 0\n",
            "TotalPop               0\n",
            "Men                    0\n",
            "Women                  0\n",
            "Hispanic             696\n",
            "White                696\n",
            "Black                696\n",
            "Native               696\n",
            "Asian                696\n",
            "Pacific              696\n",
            "VotingAgeCitizen       0\n",
            "Income              1116\n",
            "IncomeErr           1116\n",
            "IncomePerCap         745\n",
            "IncomePerCapErr      745\n",
            "Poverty              842\n",
            "ChildPoverty        1110\n",
            "Professional         811\n",
            "Service              811\n",
            "Office               811\n",
            "Construction         811\n",
            "Production           811\n",
            "Drive                801\n",
            "Carpool              801\n",
            "Transit              801\n",
            "Walk                 801\n",
            "OtherTransp          801\n",
            "WorkAtHome           801\n",
            "MeanCommute          946\n",
            "Employed               0\n",
            "PrivateWork          811\n",
            "PublicWork           811\n",
            "SelfEmployed         811\n",
            "FamilyWork           811\n",
            "Unemployment         810\n",
            "dtype: int64\n"
          ]
        }
      ]
    },
    {
      "cell_type": "markdown",
      "source": [
        "# Data Preprocessing"
      ],
      "metadata": {
        "id": "wCLft_eSiQ_S"
      }
    },
    {
      "cell_type": "code",
      "source": [
        "# Strip whitespace and convert to uppercase for merging\n",
        "census_data['State'] = census_data['State'].str.strip().str.upper()\n",
        "diabetes_data['State'] = diabetes_data['State'].str.strip().str.upper()"
      ],
      "metadata": {
        "id": "OjX7roi7i2X2"
      },
      "execution_count": 10,
      "outputs": []
    },
    {
      "cell_type": "markdown",
      "source": [
        "**Check for Missing Values**"
      ],
      "metadata": {
        "id": "rbUf_r56cFi4"
      }
    },
    {
      "cell_type": "code",
      "source": [
        "# Fill missing values with median only for numeric columns\n",
        "numeric_cols = census_data.select_dtypes(include='number').columns\n",
        "census_data[numeric_cols] = census_data[numeric_cols].fillna(census_data[numeric_cols].median())"
      ],
      "metadata": {
        "id": "8svV3ts39HmH"
      },
      "execution_count": 11,
      "outputs": []
    },
    {
      "cell_type": "markdown",
      "source": [
        "**Aggregate Census Data by State**"
      ],
      "metadata": {
        "id": "uwohf4o8cLla"
      }
    },
    {
      "cell_type": "code",
      "source": [
        "census_state_agg = census_data.groupby('State').median(numeric_only=True).reset_index()"
      ],
      "metadata": {
        "id": "x3q8srU89V5m"
      },
      "execution_count": 12,
      "outputs": []
    },
    {
      "cell_type": "markdown",
      "source": [
        "**Merge on State**"
      ],
      "metadata": {
        "id": "ArMwbnqMcTc8"
      }
    },
    {
      "cell_type": "code",
      "source": [
        "merged_data = pd.merge(diabetes_data, census_state_agg, on='State', how='inner')"
      ],
      "metadata": {
        "id": "8da2VleEcUYG"
      },
      "execution_count": 13,
      "outputs": []
    },
    {
      "cell_type": "markdown",
      "source": [
        "**Drop Duplicates or Unused Columns**"
      ],
      "metadata": {
        "id": "bN4pu0VdchGf"
      }
    },
    {
      "cell_type": "code",
      "source": [
        "columns_of_interest = ['State', 'Glucose', 'BloodPressure', 'BMI', 'Age', 'Outcome',\n",
        "                       'Income', 'Poverty', 'MeanCommute', 'Employed', 'Unemployment']\n",
        "merged_data = merged_data[columns_of_interest]"
      ],
      "metadata": {
        "id": "1388prsOcgcO"
      },
      "execution_count": 14,
      "outputs": []
    },
    {
      "cell_type": "code",
      "source": [
        "print(merged_data.isnull().sum())\n",
        "print(merged_data.describe())"
      ],
      "metadata": {
        "colab": {
          "base_uri": "https://localhost:8080/"
        },
        "id": "BK0_hFtyclZX",
        "outputId": "589587d0-807b-425a-a956-8816d6b0bb15"
      },
      "execution_count": 15,
      "outputs": [
        {
          "output_type": "stream",
          "name": "stdout",
          "text": [
            "State            0\n",
            "Glucose          0\n",
            "BloodPressure    0\n",
            "BMI              0\n",
            "Age              0\n",
            "Outcome          0\n",
            "Income           0\n",
            "Poverty          0\n",
            "MeanCommute      0\n",
            "Employed         0\n",
            "Unemployment     0\n",
            "dtype: int64\n",
            "           Glucose  BloodPressure          BMI          Age      Outcome  \\\n",
            "count  2768.000000    2768.000000  2768.000000  2768.000000  2768.000000   \n",
            "mean    121.102601      69.134393    32.137392    33.132225     0.343931   \n",
            "std      32.036508      19.231438     8.076127    11.777230     0.475104   \n",
            "min       0.000000       0.000000     0.000000    21.000000     0.000000   \n",
            "25%      99.000000      62.000000    27.300000    24.000000     0.000000   \n",
            "50%     117.000000      72.000000    32.200000    29.000000     0.000000   \n",
            "75%     141.000000      80.000000    36.625000    40.000000     1.000000   \n",
            "max     199.000000     122.000000    80.600000    81.000000     1.000000   \n",
            "\n",
            "             Income      Poverty  MeanCommute     Employed  Unemployment  \n",
            "count   2768.000000  2768.000000  2768.000000  2768.000000   2768.000000  \n",
            "mean   55396.956105    13.080076    23.855853  1852.321893      5.816944  \n",
            "std    11093.758862     5.357183     3.838887   261.068775      1.895079  \n",
            "min    19132.000000     6.700000    16.800000  1016.000000      2.300000  \n",
            "25%    48125.000000     9.900000    21.300000  1656.500000      4.800000  \n",
            "50%    54375.000000    12.100000    23.800000  1859.000000      5.900000  \n",
            "75%    61611.000000    14.700000    25.900000  2069.000000      6.500000  \n",
            "max    79306.000000    45.100000    33.200000  2364.000000     16.400000  \n"
          ]
        }
      ]
    },
    {
      "cell_type": "markdown",
      "source": [
        "# Data Merging"
      ],
      "metadata": {
        "id": "SzqR_6xhkVDu"
      }
    },
    {
      "cell_type": "code",
      "source": [
        "import pandas as pd\n",
        "\n",
        "# Load datasets\n",
        "diabetes_data = pd.read_csv('/content/Diabetes_Metrics_With_State.csv')\n",
        "census_data = pd.read_csv('/content/acs2017_census_tract_data.csv')\n",
        "\n",
        "# Convert 'State' columns to uppercase to ensure matching\n",
        "diabetes_data['State'] = diabetes_data['State'].str.upper()\n",
        "census_data['State'] = census_data['State'].str.upper()\n",
        "\n",
        "# Aggregate census data at the state level (mean values)\n",
        "census_state_summary = census_data.groupby('State')[['Income', 'Poverty', 'MeanCommute', 'Employed', 'Unemployment']].mean().reset_index()\n",
        "\n",
        "# Merge diabetes and summarized census data on State\n",
        "merged_data = pd.merge(diabetes_data, census_state_summary, on='State', how='inner')\n",
        "\n",
        "# Select final columns\n",
        "selected_columns = [\n",
        "    'State', 'Glucose', 'BloodPressure', 'BMI', 'Age', 'Outcome',\n",
        "    'Income', 'Poverty', 'MeanCommute', 'Employed', 'Unemployment'\n",
        "]\n",
        "\n",
        "viz_data = merged_data[selected_columns]\n",
        "\n",
        "# Save to CSV\n",
        "viz_data.to_csv('/content/merged_dataset.csv', index=False)\n",
        "\n",
        "print(\"✅ Visualization-ready dataset created successfully!\")\n",
        "print(viz_data.head())"
      ],
      "metadata": {
        "colab": {
          "base_uri": "https://localhost:8080/"
        },
        "id": "iiBTZCkeuByg",
        "outputId": "08fac726-cf83-421e-f612-f1afd417ca40"
      },
      "execution_count": 17,
      "outputs": [
        {
          "output_type": "stream",
          "name": "stdout",
          "text": [
            "✅ Visualization-ready dataset created successfully!\n",
            "          State  Glucose  BloodPressure   BMI  Age  Outcome        Income  \\\n",
            "0  PENNSYLVANIA      148             72  33.6   50        1  59459.747643   \n",
            "1   PUERTO RICO       85             66  26.6   31        0  21206.667429   \n",
            "2        NEVADA      183             64  23.3   32        1  58820.623894   \n",
            "3       INDIANA       89             66  28.1   21        0  51832.129333   \n",
            "4     TENNESSEE      137             40  43.1   33        1  50463.940857   \n",
            "\n",
            "     Poverty  MeanCommute     Employed  Unemployment  \n",
            "0  14.420763    26.470801  1894.647918      7.044292  \n",
            "1  46.247458    28.281087  1100.673016     19.011964  \n",
            "2  14.627434    23.829056  1952.486172      8.348525  \n",
            "3  16.995216    23.149035  2067.700199      6.903254  \n",
            "4  18.219499    24.576626  2001.743487      7.320365  \n"
          ]
        }
      ]
    }
  ]
}